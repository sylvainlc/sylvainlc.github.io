{
 "cells": [
  {
   "cell_type": "markdown",
   "metadata": {},
   "source": [
    "# <font color=darkcyan>  Simulation of stochastic differential equations </font>"
   ]
  },
  {
   "cell_type": "code",
   "execution_count": 1,
   "metadata": {},
   "outputs": [],
   "source": [
    "import numpy as np\n",
    "import matplotlib.pyplot as plt\n",
    "import pandas as pd\n",
    "import scipy.stats as stats\n",
    "import seaborn as sns"
   ]
  },
  {
   "cell_type": "code",
   "execution_count": null,
   "metadata": {},
   "outputs": [],
   "source": [
    "# ignore warnings for better clarity (may not be the best thing to do)...\n",
    "import warnings\n",
    "warnings.filterwarnings('ignore')"
   ]
  },
  {
   "cell_type": "markdown",
   "metadata": {},
   "source": [
    "### <font color=darkcyan>  Brownian motion </font>"
   ]
  },
  {
   "cell_type": "markdown",
   "metadata": {},
   "source": [
    "Starting with $W_0 = 0$, the Brownian increments $(W_{t_k}−W_{t_{k-1}})_{1\\leqslant k\\leqslant n}$ are independent Gaussian random variables. This important feature is enough to sample any \"skeleton\" of a Brownian trajectory at given user defined time steps."
   ]
  },
  {
   "cell_type": "code",
   "execution_count": null,
   "metadata": {},
   "outputs": [],
   "source": [
    "# Function to sample a Brownian motion starting at x from time t=0 to t=T with n time steps. \n",
    "def brownian_motion(x,T,n):\n",
    "    \n",
    "    ###\n",
    "    # To be completed\n",
    "    ###\n",
    "    \n",
    "    return brownian"
   ]
  },
  {
   "cell_type": "code",
   "execution_count": null,
   "metadata": {},
   "outputs": [],
   "source": [
    "# A few trajectories\n",
    "n     = 1000\n",
    "x0    = 1\n",
    "T     = 1\n",
    "nb_MC = 10\n",
    "for j in range(nb_MC):\n",
    "    B     = brownian_motion(x0,T,n)\n",
    "    plt.plot(np.arange(0,T,T/n), B)\n",
    "plt.title(\"A few Brownian paths\")\n",
    "plt.xlabel('Time', fontsize=16)\n",
    "plt.ylabel('W', fontsize=16)\n",
    "plt.grid(True)"
   ]
  },
  {
   "cell_type": "markdown",
   "metadata": {},
   "source": [
    "### <font color=darkcyan>  Geometric Brownian motion </font>"
   ]
  },
  {
   "cell_type": "markdown",
   "metadata": {},
   "source": [
    "A geometric Brownian motion is defined as the solution to the following stochastic differential equation (SDE):\n",
    "$$\n",
    "dS_{t} = \\mu S_{t}\\,dt+\\sigma S_{t}\\,dW_{t} dS_{t}\n",
    "$$\n",
    "where $(W_t)_{t\\geqslant 0}$ is a Brownian motion, and $\\mu$ and $\\sigma$ are constants.\n",
    "\n",
    "For any starting value $S_0$, this SDE can be solved explicitly using Itô's transformation (applied to $Y_t = \\log S_t$), and, for all $t\\geqslant 0$,\n",
    "$$\n",
    "S_{t}=S_{0}\\exp \\left(\\left(\\mu -{\\frac {\\sigma ^{2}}{2}}\\right)t+\\sigma W_{t}\\right)\\,.\n",
    "$$"
   ]
  },
  {
   "cell_type": "code",
   "execution_count": null,
   "metadata": {},
   "outputs": [],
   "source": [
    "def geometricbm(mu,sigma,x0,t,brownian):\n",
    "    ###\n",
    "    # To be completed\n",
    "    ###"
   ]
  },
  {
   "cell_type": "code",
   "execution_count": null,
   "metadata": {},
   "outputs": [],
   "source": [
    "mu         = 0.03\n",
    "sigma      = 0.02\n",
    "B          = brownian_motion(x0,T,n)\n",
    "GeometricB = np.zeros(np.size(B))\n",
    "for t in range(np.size(B)):\n",
    "    GeometricB[t] = gbm(mu, sigma, x0, t*T/n, B[t])\n",
    "\n",
    "plt.plot(np.arange(0,T,T/n), GeometricB)\n",
    "plt.title('Sample path of a geometric brownian motion');\n",
    "plt.title(\"A geometric Brownian motion\")\n",
    "plt.xlabel('Time', fontsize=16)\n",
    "plt.ylabel('S', fontsize=16)\n",
    "plt.grid(True)"
   ]
  },
  {
   "cell_type": "markdown",
   "metadata": {},
   "source": [
    "### <font color=darkcyan>  Ornstein-Uhlenbeck process </font>"
   ]
  },
  {
   "cell_type": "markdown",
   "metadata": {},
   "source": [
    "The Ornstein–Uhlenbeck process is defined as the solution to the following stochastic differential equation:\n",
    "$$\n",
    "dX_{t}=\\theta (\\mu-X_{t})\\,dt+\\sigma \\,dW_{t}\\,,\n",
    "$$\n",
    "where $\\theta$ and $\\sigma >0$ are parameters and  $(W_t)_{t\\geqslant 0}$ is a Brownian motion."
   ]
  },
  {
   "cell_type": "code",
   "execution_count": null,
   "metadata": {},
   "outputs": [],
   "source": [
    "sigma = 1.5  \n",
    "mu    = 8.  \n",
    "theta = 10.  \n",
    "dt    = .001\n",
    "T     = 5. \n",
    "n     = int(T / dt) \n",
    "t     = np.linspace(0., T, n) "
   ]
  },
  {
   "cell_type": "code",
   "execution_count": null,
   "metadata": {},
   "outputs": [],
   "source": [
    "###\n",
    "# To be completed - Euler scheme to sample the process\n",
    "###"
   ]
  },
  {
   "cell_type": "markdown",
   "metadata": {},
   "source": [
    "The linear drift term of the Ornstein–Uhlenbeck process allows to obtain an explicit solution to the SDE (and therefore no discretization is required to sample solutions). This solution is given, for all $t\\geqslant 0$, by\n",
    "$$\n",
    "X_t = X_0\\mathrm{e}^{−\\theta t} + \\mu (1−\\mathrm{e}^{−\\theta t}) + \\sigma \\frac{\\mathrm{e}^{−\\theta t}}{\\sqrt{2\\theta}}W_{\\mathrm{e}^{2\\theta t}-1}\\,.\n",
    "$$"
   ]
  },
  {
   "cell_type": "code",
   "execution_count": null,
   "metadata": {},
   "outputs": [],
   "source": [
    "###\n",
    "# To be completed - exact simulation of the process\n",
    "###"
   ]
  },
  {
   "cell_type": "code",
   "execution_count": null,
   "metadata": {},
   "outputs": [],
   "source": [
    "nb_MC   = 5000\n",
    "X       = np.zeros(nb_MC)\n",
    "###\n",
    "# To be completed - Display the histogram of the distribution of Xt for a few time steps\n",
    "###"
   ]
  },
  {
   "cell_type": "code",
   "execution_count": null,
   "metadata": {},
   "outputs": [],
   "source": [
    "###\n",
    "# To be completed - Use Monte Carlo simulations to estimate E[Xt]\n",
    "###"
   ]
  },
  {
   "cell_type": "markdown",
   "metadata": {},
   "source": [
    "### <font color=darkcyan>  Euler and Milstein discretization schemes </font>"
   ]
  },
  {
   "cell_type": "code",
   "execution_count": null,
   "metadata": {},
   "outputs": [],
   "source": [
    "class DiscreteSDE( object ):\n",
    "    \"\"\"\n",
    "    drift: the univariate drift function.\n",
    "    diffusion: the univariate diffusion function.\n",
    "    scheme: \"euler\" or \"milstein\"\n",
    "    delta: time step\n",
    "    startTime: the starting time of the process\n",
    "    startPosition: the starting position of the process \n",
    "    \"\"\"  \n",
    "\n",
    "    def __init__(self, drift, diffusion, scheme, delta = 0.001, startTime = 0, startPosition = 0):\n",
    "        self.drift         = drift\n",
    "        self.diffusion     = diffusion\n",
    "        self.scheme        = scheme\n",
    "        self.delta         = delta\n",
    "        self.startTime     = startTime\n",
    "        self.startPosition = startPosition\n",
    "        \n",
    "    def _init(self,t, n ):\n",
    "        N                             = int(np.floor( t / self.delta ))\n",
    "        discretized_trajectories      = np.zeros( (n, N) )\n",
    "        discretized_trajectories[:,0] = self.startPosition\n",
    "        return discretized_trajectories,N\n",
    "            \n",
    "    def sample(self,t=1, n=1):\n",
    "        return getattr( self, self.scheme )(t, n)\n",
    "        \n",
    "        \n",
    "    def euler(self, t, n):\n",
    "        discretized_teajectories, N = self._init(t,n)\n",
    "        \n",
    "         ###\n",
    "         # To be completed - Euler scheme\n",
    "         ###\n",
    "            \n",
    "        return discretized_trajectories\n",
    "            \n",
    "    \n",
    "    def milstein(self,t,n, h = 0.001):\n",
    "        \n",
    "        def diff_prime( u ):\n",
    "            \n",
    "             ###\n",
    "             # To be completed\n",
    "             ###\n",
    "        \n",
    "        \n",
    "        discretized_trajectories, N = self._init(t,n)\n",
    "         ###\n",
    "         # To be completed - Milstein scheme\n",
    "         ###     \n",
    "        return discretized_trajectories       \n",
    "        \n",
    "   "
   ]
  },
  {
   "cell_type": "code",
   "execution_count": null,
   "metadata": {},
   "outputs": [],
   "source": [
    "kappa = 0.3\n",
    "b     = 0.07\n",
    "sigma = 0.06\n",
    "gamma = 0.5\n",
    "\n",
    "def drift(x):\n",
    "    return kappa*( b - x)\n",
    "        \n",
    "def diffusion(x):\n",
    "    return sigma*x**(gamma)"
   ]
  },
  {
   "cell_type": "code",
   "execution_count": null,
   "metadata": {},
   "outputs": [],
   "source": [
    "delta       = 0.005\n",
    "sdeEuler    = DiscreteSDE( drift, diffusion, \"euler\", startPosition = b, delta = delta)\n",
    "sdeMilstein = DiscreteSDE( drift, diffusion, \"milstein\", startPosition = b, delta = delta)\n",
    "\n",
    "N           = 100"
   ]
  },
  {
   "cell_type": "code",
   "execution_count": null,
   "metadata": {},
   "outputs": [],
   "source": [
    "###\n",
    "# To be completed - use Euler and Milstein to discretize the SDE and plot two trajectories, \n",
    "###"
   ]
  },
  {
   "cell_type": "code",
   "execution_count": null,
   "metadata": {},
   "outputs": [],
   "source": [
    "euler_scheme    = sdeEuler.sample(1, N)[:, -1]\n",
    "milstein_scheme = sdeMilstein.sample(1, N)[:, -1]\n",
    "###\n",
    "# To be completed - use Euler and Milstein to discretize the SDE, \n",
    "# To be completed - build a dataframe to display the process values using swarmplot...\n",
    "###"
   ]
  },
  {
   "cell_type": "code",
   "execution_count": null,
   "metadata": {},
   "outputs": [],
   "source": [
    "###\n",
    "# To be completed - Use Monte Carlo simulations to estimate E[Xt] with the two schemes\n",
    "# To be completed - Extend to another drift and another diffusion\n",
    "###"
   ]
  }
 ],
 "metadata": {
  "kernelspec": {
   "display_name": "Python 3",
   "language": "python",
   "name": "python3"
  },
  "language_info": {
   "codemirror_mode": {
    "name": "ipython",
    "version": 3
   },
   "file_extension": ".py",
   "mimetype": "text/x-python",
   "name": "python",
   "nbconvert_exporter": "python",
   "pygments_lexer": "ipython3",
   "version": "3.7.3"
  }
 },
 "nbformat": 4,
 "nbformat_minor": 2
}
